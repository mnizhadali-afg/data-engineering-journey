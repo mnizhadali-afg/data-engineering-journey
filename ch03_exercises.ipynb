{
 "cells": [
  {
   "cell_type": "code",
   "execution_count": 5,
   "id": "f2d5d0bd",
   "metadata": {},
   "outputs": [
    {
     "name": "stdout",
     "output_type": "stream",
     "text": [
      "\n",
      "Invalid input. Please enter 1 for pass or 2 for fail.\n",
      "\n",
      "Invalid input. Please enter 1 for pass or 2 for fail.\n",
      "\n",
      "Invalid input. Please enter 1 for pass or 2 for fail.\n",
      "\n",
      "Invalid input. Please enter 1 for pass or 2 for fail.\n",
      "\n",
      "Number of passes: 7\n",
      "Number of failures: 3\n",
      "Number of invalid inputs: 4\n",
      "Total number of students: 14\n",
      "\n",
      "Overall result: More passes than failures.\n",
      "\n",
      "Note: There were 4 invalid inputs during the process.\n"
     ]
    }
   ],
   "source": [
    "# Ex. 3.1 - Nested Control Statements\n",
    "\"\"\"Using nested control statem1ents to analyze examination results.\"\"\"\n",
    "\n",
    "passes = 0\n",
    "failures = 0\n",
    "invalid_inputs = 0\n",
    "\n",
    "for student in range(1, 11):  # Loop for 10 students\n",
    "    while True:\n",
    "        try:\n",
    "            result = int(input(f\"Enter result for student #{student} (1 for pass, 2 for fail): \"))\n",
    "            if result == 1:\n",
    "                passes += 1\n",
    "                break\n",
    "            elif result == 2:\n",
    "                failures += 1\n",
    "                break\n",
    "            else:\n",
    "                print(\"\\nInvalid input. Please enter 1 for pass or 2 for fail.\")\n",
    "                invalid_inputs += 1\n",
    "        except ValueError:\n",
    "            print(\"\\nInvalid input. Please enter a numeric value (1 or 2).\")\n",
    "            invalid_inputs += 1\n",
    "\n",
    "# Display the results\n",
    "print(f\"\\nNumber of passes: {passes}\")\n",
    "print(f\"Number of failures: {failures}\")\n",
    "print(f\"Number of invalid inputs: {invalid_inputs}\")\n",
    "\n",
    "# Calculate and display the total number of students\n",
    "total_students = passes + failures + invalid_inputs\n",
    "print(f\"Total number of students: {total_students}\")\n",
    "\n",
    "# Determine and display the overall result\n",
    "if passes > failures:\n",
    "    print(\"\\nOverall result: More passes than failures.\")\n",
    "elif failures > passes:\n",
    "    print(\"\\nOverall result: More failures than passes.\")\n",
    "else:\n",
    "    print(\"\\nOverall result: Equal number of passes and failures.\")\n",
    "if invalid_inputs > 0:\n",
    "    print(f\"\\nNote: There were {invalid_inputs} invalid inputs during the process.\")\n",
    "else:\n",
    "    print(\"All inputs were valid.\")\n",
    "    \n",
    "# End of the code"
   ]
  },
  {
   "cell_type": "code",
   "execution_count": 16,
   "id": "2b28c7b9",
   "metadata": {},
   "outputs": [
    {
     "name": "stdout",
     "output_type": "stream",
     "text": [
      ">>>>>>>>>>\n",
      "<<<<<<<<<<\n",
      ">>>>>>>>>>\n",
      "<<<<<<<<<<\n",
      ">>>>>>>>>>\n",
      "<<<<<<<<<<\n",
      ">>>>>>>>>>\n",
      "<<<<<<<<<<\n",
      ">>>>>>>>>>\n",
      "<<<<<<<<<<\n"
     ]
    }
   ],
   "source": [
    "# Example of nested control statements to print a pattern\n",
    "for row in range(10):\n",
    "     for col in range(10):\n",
    "         print('<' if row % 2 == 1 else '>', end='')\n",
    "     print()"
   ]
  },
  {
   "cell_type": "code",
   "execution_count": 15,
   "id": "ab157dfe",
   "metadata": {},
   "outputs": [
    {
     "name": "stdout",
     "output_type": "stream",
     "text": [
      "@@@@@@\n",
      "@@@@@@\n"
     ]
    }
   ],
   "source": [
    "for row in range (2):\n",
    "    for col in range(6):\n",
    "        print('@' if col % 2 == 0 else '@', end='')\n",
    "    print()"
   ]
  }
 ],
 "metadata": {
  "kernelspec": {
   "display_name": "base",
   "language": "python",
   "name": "python3"
  },
  "language_info": {
   "codemirror_mode": {
    "name": "ipython",
    "version": 3
   },
   "file_extension": ".py",
   "mimetype": "text/x-python",
   "name": "python",
   "nbconvert_exporter": "python",
   "pygments_lexer": "ipython3",
   "version": "3.12.2"
  }
 },
 "nbformat": 4,
 "nbformat_minor": 5
}
