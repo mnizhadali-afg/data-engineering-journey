{
 "cells": [
  {
   "cell_type": "code",
   "execution_count": 5,
   "id": "f2d5d0bd",
   "metadata": {},
   "outputs": [
    {
     "name": "stdout",
     "output_type": "stream",
     "text": [
      "\n",
      "Invalid input. Please enter 1 for pass or 2 for fail.\n",
      "\n",
      "Invalid input. Please enter 1 for pass or 2 for fail.\n",
      "\n",
      "Invalid input. Please enter 1 for pass or 2 for fail.\n",
      "\n",
      "Invalid input. Please enter 1 for pass or 2 for fail.\n",
      "\n",
      "Number of passes: 7\n",
      "Number of failures: 3\n",
      "Number of invalid inputs: 4\n",
      "Total number of students: 14\n",
      "\n",
      "Overall result: More passes than failures.\n",
      "\n",
      "Note: There were 4 invalid inputs during the process.\n"
     ]
    }
   ],
   "source": [
    "# Ex. 3.1 - Nested Control Statements\n",
    "\"\"\"Using nested control statem1ents to analyze examination results.\"\"\"\n",
    "\n",
    "passes = 0\n",
    "failures = 0\n",
    "invalid_inputs = 0\n",
    "\n",
    "for student in range(1, 11):  # Loop for 10 students\n",
    "    while True:\n",
    "        try:\n",
    "            result = int(input(f\"Enter result for student #{student} (1 for pass, 2 for fail): \"))\n",
    "            if result == 1:\n",
    "                passes += 1\n",
    "                break\n",
    "            elif result == 2:\n",
    "                failures += 1\n",
    "                break\n",
    "            else:\n",
    "                print(\"\\nInvalid input. Please enter 1 for pass or 2 for fail.\")\n",
    "                invalid_inputs += 1\n",
    "        except ValueError:\n",
    "            print(\"\\nInvalid input. Please enter a numeric value (1 or 2).\")\n",
    "            invalid_inputs += 1\n",
    "\n",
    "# Display the results\n",
    "print(f\"\\nNumber of passes: {passes}\")\n",
    "print(f\"Number of failures: {failures}\")\n",
    "print(f\"Number of invalid inputs: {invalid_inputs}\")\n",
    "\n",
    "# Calculate and display the total number of students\n",
    "total_students = passes + failures + invalid_inputs\n",
    "print(f\"Total number of students: {total_students}\")\n",
    "\n",
    "# Determine and display the overall result\n",
    "if passes > failures:\n",
    "    print(\"\\nOverall result: More passes than failures.\")\n",
    "elif failures > passes:\n",
    "    print(\"\\nOverall result: More failures than passes.\")\n",
    "else:\n",
    "    print(\"\\nOverall result: Equal number of passes and failures.\")\n",
    "if invalid_inputs > 0:\n",
    "    print(f\"\\nNote: There were {invalid_inputs} invalid inputs during the process.\")\n",
    "else:\n",
    "    print(\"All inputs were valid.\")\n",
    "    \n",
    "# End of the code"
   ]
  },
  {
   "cell_type": "code",
   "execution_count": null,
   "id": "2b28c7b9",
   "metadata": {},
   "outputs": [
    {
     "name": "stdout",
     "output_type": "stream",
     "text": [
      ">>>>>>>>>>\n",
      "<<<<<<<<<<\n",
      ">>>>>>>>>>\n",
      "<<<<<<<<<<\n",
      ">>>>>>>>>>\n",
      "<<<<<<<<<<\n",
      ">>>>>>>>>>\n",
      "<<<<<<<<<<\n",
      ">>>>>>>>>>\n",
      "<<<<<<<<<<\n"
     ]
    }
   ],
   "source": [
    "# Ex. 3.2 Example of nested control statements to print a pattern\n",
    "for row in range(10):\n",
    "     for col in range(10):\n",
    "         print('<' if row % 2 == 1 else '>', end='')\n",
    "     print()"
   ]
  },
  {
   "cell_type": "code",
   "execution_count": null,
   "id": "ab157dfe",
   "metadata": {},
   "outputs": [
    {
     "name": "stdout",
     "output_type": "stream",
     "text": [
      "@@@@@@\n",
      "@@@@@@\n"
     ]
    }
   ],
   "source": [
    "#Ex. 3.3 Example of nested control statements to print a pattern\n",
    "for row in range (2):\n",
    "    for col in range(6):\n",
    "        print('@' if col % 2 == 0 else '@', end='')\n",
    "    print()"
   ]
  },
  {
   "cell_type": "code",
   "execution_count": null,
   "id": "e546ba62",
   "metadata": {},
   "outputs": [
    {
     "name": "stdout",
     "output_type": "stream",
     "text": [
      "Welcome to the Medical Diagnosis System.\n",
      "Well, you have it again.\n"
     ]
    }
   ],
   "source": [
    "# Ex. 3.6 - Alan Turing's Medical Diagnosis System\n",
    "\"\"\"Alan Turing's Medical Diagnosis System\"\"\"\n",
    "\n",
    "print(\"Welcome to the Medical Diagnosis System.\")\n",
    "while True:\n",
    "    input(\"What is your problem? (Press Enter to continue) \")\n",
    "    response = input(\"Have you had this problem before (yes or no)? \").strip().lower()\n",
    "    \n",
    "    if response == 'yes':\n",
    "        print(\"Well, you have it again.\")\n",
    "        break\n",
    "    elif response == 'no':\n",
    "        print(\"Well, you have it now.\")\n",
    "        break\n",
    "    else:\n",
    "        print(\"Invalid response. Please answer with 'yes' or 'no'.\")\n",
    "\n",
    "\n"
   ]
  },
  {
   "cell_type": "code",
   "execution_count": 150,
   "id": "f7257913",
   "metadata": {},
   "outputs": [
    {
     "name": "stdout",
     "output_type": "stream",
     "text": [
      "    Number       Cube     Square\n",
      "    ------       ----     ------\n",
      "         1          1          1\n",
      "         2          4          8\n",
      "         3          9         27\n",
      "         4         16         64\n",
      "         5         25        125\n",
      "         6         36        216\n",
      "         7         49        343\n",
      "         8         64        512\n",
      "         9         81        729\n",
      "        10        100       1000\n"
     ]
    }
   ],
   "source": [
    "# Ex. 3.7 - Nested Control Statements to Create a Table\n",
    "title = [\"Number\", \"Cube\", \"Square\"]\n",
    "\n",
    "print(f\"{title[0]:>10} {title[1]:>10} {title[2]:>10}\")\n",
    "print(f\"{'-'*len(title[0]):>10} {'-'*len(title[1]):>10} {'-'*len(title[2]):>10}\")\n",
    "\n",
    "for number in range(1, 11):\n",
    "    cube = number ** 3\n",
    "    square = number ** 2\n",
    "    print(f\"{number:>10} {square:>10} {cube:>10}\")"
   ]
  },
  {
   "cell_type": "code",
   "execution_count": null,
   "id": "3e11736c",
   "metadata": {},
   "outputs": [
    {
     "name": "stdout",
     "output_type": "stream",
     "text": [
      "Sum: 45135476558\n",
      "Product: 22846703888843894632248\n",
      "Average: 15045158852.67\n",
      "Smallest: 41123\n",
      "Largest: 45123123123\n"
     ]
    }
   ],
   "source": [
    "# Ex. 3.8 - Using loop to analyze three numbers\n",
    "numbers = []\n",
    "\n",
    "for i in range(3):\n",
    "    num = int(input(f\"Enter the {i+1} number: \"))\n",
    "    numbers.append(num)\n",
    "    \n",
    "sum = numbers[0] + numbers[1] + numbers[2]\n",
    "product = numbers[0] * numbers[1] * numbers[2]\n",
    "average = sum / 3\n",
    "smallest = min(numbers)\n",
    "largest = max(numbers)\n",
    "\n",
    "print(f\"Sum: {sum}\")\n",
    "print(f\"Product: {product}\")\n",
    "print(f\"Average: {average:.2f}\")\n",
    "print(f\"Smallest: {smallest}\")\n",
    "print(f\"Largest: {largest}\")"
   ]
  },
  {
   "cell_type": "code",
   "execution_count": null,
   "id": "5c83dfae",
   "metadata": {},
   "outputs": [
    {
     "name": "stdout",
     "output_type": "stream",
     "text": [
      "Digits of (312312412312312) are:\n",
      "================================\n",
      "Digit #1: [2]\n",
      "Digit #2: [1]\n",
      "Digit #3: [3]\n",
      "Digit #4: [2]\n",
      "Digit #5: [1]\n",
      "Digit #6: [3]\n",
      "Digit #7: [2]\n",
      "Digit #8: [1]\n",
      "Digit #9: [4]\n",
      "Digit #10: [2]\n",
      "Digit #11: [1]\n",
      "Digit #12: [3]\n",
      "Digit #13: [2]\n",
      "Digit #14: [1]\n",
      "Digit #15: [3]\n"
     ]
    }
   ],
   "source": [
    "# Ex. 3.9 - Using LOOP to extract digits from an integer (using /, //, and %)\n",
    "number = int(input(\"Enter an integer: \"))\n",
    "text = 'Digits of (' + str(number) + ') are:'\n",
    "length_of_number = len(str(number))\n",
    "\n",
    "print(f\"{text}\")\n",
    "print(\"=\" * len(text))\n",
    "\n",
    "for i in range(length_of_number):\n",
    "    digit = number % 10\n",
    "    print(f\"Digit #{i+1}: [{digit}]\")\n",
    "    number //= 10"
   ]
  },
  {
   "cell_type": "code",
   "execution_count": 199,
   "id": "92bf9f38",
   "metadata": {},
   "outputs": [
    {
     "name": "stdout",
     "output_type": "stream",
     "text": [
      "Investment Return Calculation for [6] years at 7% annual interest rate:\n",
      "=======================================================================\n",
      "#1 year: $2022.30\t-->\t(Principal: $1890.00, Interest: $132.30)\n",
      "#2 year: $2163.86\t-->\t(Principal: $1890.00, Interest: $273.86)\n",
      "#3 year: $2315.33\t-->\t(Principal: $1890.00, Interest: $425.33)\n",
      "#4 year: $2477.40\t-->\t(Principal: $1890.00, Interest: $587.40)\n",
      "#5 year: $2650.82\t-->\t(Principal: $1890.00, Interest: $760.82)\n",
      "#6 year: $2836.38\t-->\t(Principal: $1890.00, Interest: $946.38)\n"
     ]
    }
   ],
   "source": [
    "# Ex. 3.10 - 7% Investment Return using LOOP for 5 years\n",
    "\n",
    "principal = float(input(\"Enter the principal amount: \"))\n",
    "years = int(input(\"Enter the number of years for investment: \"))\n",
    "annual_rate = 0.07  # 7% interest rate\n",
    "text = \"Investment Return Calculation for [\" + str(years) + \"] years at 7% annual interest rate:\"\n",
    "\n",
    "# Print the header\n",
    "print(text)\n",
    "# Print a separator line\n",
    "print(\"=\" * len(text))\n",
    "\n",
    "for year in range(1, years + 1):\n",
    "    a = principal * (1 + annual_rate) ** year\n",
    "    print(f\"#{year} year: ${a:.2f}\\t-->\\t(Principal: ${principal:.2f}, Interest: ${a - principal:.2f})\")"
   ]
  },
  {
   "cell_type": "code",
   "execution_count": 204,
   "id": "a0ea9d87",
   "metadata": {},
   "outputs": [
    {
     "name": "stdout",
     "output_type": "stream",
     "text": [
      "Gallons must be greater than zero. Please try again.\n",
      "Gallons must be greater than zero. Please try again.\n",
      "Invalid input. Please enter numeric values for miles and gallons.\n",
      "Invalid input. Please enter numeric values for miles and gallons.\n",
      "Invalid input. Please enter numeric values for miles and gallons.\n",
      "Invalid input. Please enter numeric values for miles and gallons.\n",
      "Invalid input. Please enter numeric values for miles and gallons.\n"
     ]
    }
   ],
   "source": [
    "# Ex. 3.11 - Miles per Gallon\n",
    "\"\"\"Miles per Gallon Calculation\"\"\"\n",
    "miles = 0\n",
    "gallons = 0\n",
    "while True:\n",
    "    try:\n",
    "        miles = float(input(\"Enter the number of miles driven (or -1 to exit): \"))\n",
    "        if miles == -1:\n",
    "            break\n",
    "        gallons = float(input(\"Enter the gallons of gas used: \"))\n",
    "        if gallons <= 0:\n",
    "            print(\"Gallons must be greater than zero. Please try again.\")\n",
    "            continue\n",
    "        mpg = miles / gallons\n",
    "        print(f\"Miles per gallon: {mpg:.6f}\")\n",
    "    except ValueError:\n",
    "        print(\"Invalid input. Please enter numeric values for miles and gallons.\")"
   ]
  },
  {
   "cell_type": "code",
   "execution_count": 3,
   "id": "b4a98b5b",
   "metadata": {},
   "outputs": [
    {
     "name": "stdout",
     "output_type": "stream",
     "text": [
      "The string '12321' is a palindrome.\n"
     ]
    }
   ],
   "source": [
    "# Ex. 3.12 - Palindromes without using functions\n",
    "\"\"\"Palindrome Checker\"\"\"\n",
    "text = input(\"Enter a string to check if it's a palindrome: \").strip().lower()\n",
    "is_palindrome = True\n",
    "for i in range(len(text) // 2):\n",
    "    if text[i] != text[-(i + 1)]:\n",
    "        is_palindrome = False\n",
    "        break\n",
    "if is_palindrome:\n",
    "    print(f\"The string '{text}' is a palindrome.\")\n",
    "else:\n",
    "    print(f\"The string '{text}' is not a palindrome.\")"
   ]
  },
  {
   "cell_type": "code",
   "execution_count": null,
   "id": "175eb554",
   "metadata": {},
   "outputs": [],
   "source": []
  }
 ],
 "metadata": {
  "kernelspec": {
   "display_name": "base",
   "language": "python",
   "name": "python3"
  },
  "language_info": {
   "codemirror_mode": {
    "name": "ipython",
    "version": 3
   },
   "file_extension": ".py",
   "mimetype": "text/x-python",
   "name": "python",
   "nbconvert_exporter": "python",
   "pygments_lexer": "ipython3",
   "version": "3.12.2"
  }
 },
 "nbformat": 4,
 "nbformat_minor": 5
}
