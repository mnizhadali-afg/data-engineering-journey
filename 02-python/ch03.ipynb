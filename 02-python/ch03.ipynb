{
 "cells": [
  {
   "cell_type": "code",
   "execution_count": null,
   "id": "e49790ff",
   "metadata": {},
   "outputs": [],
   "source": [
    "# Control Statements in Python\n",
    "\n",
    "# if statement\n",
    "x = 10\n",
    "if x > 5:\n",
    "    print(\"x is greater than 5\")"
   ]
  },
  {
   "cell_type": "code",
   "execution_count": null,
   "id": "403f9d6c",
   "metadata": {},
   "outputs": [],
   "source": [
    "\n",
    "# if-else statement\n",
    "y = 3\n",
    "if y > 5:\n",
    "    print(\"y is greater than 5\")\n",
    "else:\n",
    "    print(\"y is not greater than 5\")"
   ]
  },
  {
   "cell_type": "code",
   "execution_count": null,
   "id": "ac2af3ab",
   "metadata": {},
   "outputs": [],
   "source": [
    "    \n",
    "# if-elif-else statement\n",
    "z = 7\n",
    "if z > 10:\n",
    "    print(\"z is greater than 10\")\n",
    "elif z > 5:\n",
    "    print(\"z is greater than 5 but not greater than 10\")\n",
    "else:\n",
    "    print(\"z is not greater than 5\")"
   ]
  },
  {
   "cell_type": "code",
   "execution_count": null,
   "id": "7028388e",
   "metadata": {},
   "outputs": [],
   "source": [
    "# Nested if statement\n",
    "a = 15\n",
    "if a > 10:\n",
    "    print(\"a is greater than 10\")\n",
    "    if a > 20:\n",
    "        print(\"a is also greater than 20\")\n",
    "    else:\n",
    "        print(\"a is not greater than 20\")"
   ]
  },
  {
   "cell_type": "code",
   "execution_count": null,
   "id": "1d02d864",
   "metadata": {},
   "outputs": [],
   "source": [
    "\n",
    "# Loops in Python\n",
    "# for loop example 1\n",
    "for i in range(5):\n",
    "    print(f\"Iteration {i}\")\n",
    "\n",
    "# print a separator line\n",
    "print(\"-\" * 20)\n",
    "\n",
    "# for loop example 2\n",
    "fruits = [\"apple\", \"banana\", \"cherry\"]\n",
    "for fruit in fruits:\n",
    "    print(f\"Fruit: {fruit}\")\n",
    "\n",
    "# print a separator line\n",
    "print(\"-\" * 20)\n",
    " \n",
    "# for loop example 3\n",
    "# range(): Generates a sequence of numbers\n",
    "for i in range(1, 11):\n",
    "    if i % 2 == 0:\n",
    "        print(f\"{i} is even\")\n",
    "    else:\n",
    "        print(f\"{i} is odd\")\n",
    "print(\"\\n\")"
   ]
  },
  {
   "cell_type": "code",
   "execution_count": null,
   "id": "3f99267b",
   "metadata": {},
   "outputs": [],
   "source": [
    "      \n",
    "# while loop example\n",
    "count = 0\n",
    "while count < 5:\n",
    "    print(f\"Count is {count}\")\n",
    "    count += 1\n",
    "\n",
    "# print a separator line\n",
    "print(\"-\" * 20)\n",
    "\n",
    "# while loop with break\n",
    "count = 0\n",
    "while True:\n",
    "    if count >= 5:\n",
    "        break\n",
    "    print(f\"Count is {count}\")\n",
    "    count += 1"
   ]
  }
 ],
 "metadata": {
  "kernelspec": {
   "display_name": "base",
   "language": "python",
   "name": "python3"
  },
  "language_info": {
   "codemirror_mode": {
    "name": "ipython",
    "version": 3
   },
   "file_extension": ".py",
   "mimetype": "text/x-python",
   "name": "python",
   "nbconvert_exporter": "python",
   "pygments_lexer": "ipython3",
   "version": "3.12.2"
  }
 },
 "nbformat": 4,
 "nbformat_minor": 5
}
