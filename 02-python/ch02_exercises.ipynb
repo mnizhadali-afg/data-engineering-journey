{
 "cells": [
  {
   "cell_type": "code",
   "execution_count": null,
   "id": "79af961f",
   "metadata": {},
   "outputs": [],
   "source": [
    "# Exercise: 2.1\n",
    "x = 2\n",
    "y = 3\n",
    "\n",
    "print('x =', x)\n",
    "print('Value of', x, '+', x, 'is', (x + x))\n",
    "print('x = ', x)\n",
    "print((x + y), 'x =', (y + x))"
   ]
  },
  {
   "cell_type": "code",
   "execution_count": null,
   "id": "a1982b12",
   "metadata": {},
   "outputs": [],
   "source": [
    "# Exercise: 2.2\n",
    "rating = int(input('Enter an integer rating between 1 and 10: '))"
   ]
  },
  {
   "cell_type": "code",
   "execution_count": null,
   "id": "5ef8dc27",
   "metadata": {},
   "outputs": [],
   "source": [
    "# Exercise: 2.3\n",
    "try:\n",
    "    grade = int(input('Enter a grade between 0 and 100: '))\n",
    "    \n",
    "    if grade > 100 or grade < 0:\n",
    "        print('\\nInvalid grade. Please enter a number between 0 and 100.')\n",
    "    else:\n",
    "        if grade >= 90:\n",
    "            print('\\nCongratulations! Your grade of', grade, 'earns you an A in this course!')\n",
    "        elif grade >= 80:\n",
    "            print('\\nCongratulations! Your grade of', grade, 'earns you a B in this course!')\n",
    "        elif grade >= 70:\n",
    "            print('\\nCongratulations! Your grade of', grade, 'earns you a C in this course!')\n",
    "        elif grade >= 60:\n",
    "            print('\\nCongratulations! Your grade of', grade, 'earns you a D in this course!')\n",
    "        else:\n",
    "            print('\\nSorry, your grade of', grade, 'earns you an F in this course!')\n",
    "except ValueError:\n",
    "    print('\\nInvalid input. Please enter a numeric grade.')"
   ]
  },
  {
   "cell_type": "code",
   "execution_count": null,
   "id": "4f04e342",
   "metadata": {},
   "outputs": [],
   "source": [
    "# Exercise: 2.4\n",
    "print('\\nResult:', 27.5 + 2)\n",
    "print('Result:', 27.5 - 2)\n",
    "print('Result:', 27.5 * 2)\n",
    "print('Result:', 27.5 / 2)\n",
    "print('Result:', 27.5 // 2)\n",
    "print('Result:', 27.5 % 2)\n",
    "print('Result:', 27.5 ** 2)"
   ]
  },
  {
   "cell_type": "code",
   "execution_count": null,
   "id": "113648bb",
   "metadata": {},
   "outputs": [],
   "source": [
    "# Exercise: 2.5\n",
    "print('\\nCircle Area:')\n",
    "\n",
    "radius = 2\n",
    "pi = 3.14159\n",
    "area = pi * (radius ** 2)\n",
    "\n",
    "print('The area of a circle with radius', radius, 'is', area)"
   ]
  },
  {
   "cell_type": "code",
   "execution_count": null,
   "id": "c6c4e0be",
   "metadata": {},
   "outputs": [],
   "source": [
    "# Exercise: 2.6\n",
    "print('\\nOdd or Even?')\n",
    "\n",
    "number = int(input('Enter an integer: '))\n",
    "if number % 2 == 0:\n",
    "    print('The number', number, 'is even.')"
   ]
  },
  {
   "cell_type": "code",
   "execution_count": 40,
   "id": "164d12ec",
   "metadata": {},
   "outputs": [
    {
     "name": "stdout",
     "output_type": "stream",
     "text": [
      "1024 is a multiple of 4.\n"
     ]
    }
   ],
   "source": [
    "# Exercise: 2.7\n",
    "if 1024 % 4 == 0:\n",
    "    print('1024 is a multiple of 4.')\n",
    "\n",
    "if 2 % 10 == 0:\n",
    "    print('2 is a multiple of 10.')"
   ]
  },
  {
   "cell_type": "code",
   "execution_count": 45,
   "id": "c9ce8128",
   "metadata": {},
   "outputs": [
    {
     "name": "stdout",
     "output_type": "stream",
     "text": [
      "number\tsquare\tcube\n",
      "----\t----\t----\n",
      "1\t 1 \t 1\n",
      "2\t 4 \t 8\n",
      "3\t 9 \t 27\n",
      "4\t 16 \t 64\n",
      "5\t 25 \t 125\n"
     ]
    }
   ],
   "source": [
    "# Exercise: 2.8\n",
    "print('number\\tsquare\\tcube')\n",
    "print('----\\t----\\t----')\n",
    "print('1\\t', 1 ** 2, '\\t', 1 ** 3)\n",
    "print('2\\t', 2 ** 2, '\\t', 2 ** 3)\n",
    "print('3\\t', 3 ** 2, '\\t', 3 ** 3)\n",
    "print('4\\t', 4 ** 2, '\\t', 4 ** 3)\n",
    "print('5\\t', 5 ** 2, '\\t', 5 ** 3)"
   ]
  },
  {
   "cell_type": "code",
   "execution_count": 50,
   "id": "f689edaa",
   "metadata": {},
   "outputs": [
    {
     "name": "stdout",
     "output_type": "stream",
     "text": [
      "integer equivalent of A 65\n",
      "integer equivalent of B 66\n",
      "integer equivalent of C 67\n",
      "integer equivalent of D 68\n",
      "integer equivalent of a 97\n",
      "integer equivalent of b 98\n",
      "integer equivalent of c 99\n",
      "integer equivalent of d 100\n",
      "integer equivalent of 0 48\n",
      "integer equivalent of 1 49\n",
      "integer equivalent of 2 50\n",
      "integer equivalent of $ 36\n",
      "integer equivalent of * 42\n",
      "integer equivalent of + 43\n",
      "integer equivalent of <space> 32\n"
     ]
    }
   ],
   "source": [
    "# Exercise: 2.9\n",
    "print('integer equivalent of A', ord('A'))\n",
    "print('integer equivalent of B', ord('B'))\n",
    "print('integer equivalent of C', ord('C'))\n",
    "print('integer equivalent of D', ord('D'))\n",
    "print('integer equivalent of a', ord('a'))\n",
    "print('integer equivalent of b', ord('b'))\n",
    "print('integer equivalent of c', ord('c'))\n",
    "print('integer equivalent of d', ord('d'))\n",
    "print('integer equivalent of 0', ord('0'))\n",
    "print('integer equivalent of 1', ord('1'))\n",
    "print('integer equivalent of 2', ord('2'))\n",
    "print('integer equivalent of $', ord('$'))\n",
    "print('integer equivalent of *', ord('*'))\n",
    "print('integer equivalent of +', ord('+'))\n",
    "print('integer equivalent of <space>', ord(' '))\n"
   ]
  },
  {
   "cell_type": "code",
   "execution_count": 52,
   "id": "a4e1e79e",
   "metadata": {},
   "outputs": [
    {
     "name": "stdout",
     "output_type": "stream",
     "text": [
      "\n",
      "You entered: 8 3 9\n",
      "\n",
      "Sum: 20\n",
      "Average: 6.666666666666667\n",
      "Product: 216\n",
      "Smallest: 3\n",
      "Largest: 9\n"
     ]
    }
   ],
   "source": [
    "# Exercise: 2.10\n",
    "# Display the \n",
    "#   sum, \n",
    "#   average, \n",
    "#   product, \n",
    "#   smallest \n",
    "#   and largest \n",
    "# of the numbers.\n",
    "\n",
    "first = int(input('Enter the first integer: '))\n",
    "second = int(input('Enter the second integer: '))\n",
    "third = int(input('Enter the third integer: '))\n",
    "\n",
    "print('\\nYou entered:', first, second, third)\n",
    "\n",
    "print('\\nSum:', first + second + third)\n",
    "print('Average:', (first + second + third) / 3)\n",
    "print('Product:', first * second * third)\n",
    "print('Smallest:', min(first, second, third))\n",
    "print('Largest:', max(first, second, third))"
   ]
  },
  {
   "cell_type": "code",
   "execution_count": 57,
   "id": "fca20449",
   "metadata": {},
   "outputs": [
    {
     "name": "stdout",
     "output_type": "stream",
     "text": [
      "\n",
      "The digits of the number are: 2 3 4 5 6\n"
     ]
    }
   ],
   "source": [
    "# Exercise: 2.11\n",
    "# Separate the digits of a five-digit integer\n",
    "\n",
    "five_digit_number = int(input('Enter a five-digit integer: '))\n",
    "last_digit = five_digit_number % 10\n",
    "fourth_digit = (five_digit_number // 10) % 10\n",
    "third_digit = (five_digit_number // 100) % 10\n",
    "second_digit = (five_digit_number // 1000) % 10\n",
    "first_digit = (five_digit_number // 10000) % 10\n",
    "\n",
    "# now display the digits in one line with spaces\n",
    "print('\\nThe digits of the number are:', first_digit, second_digit, third_digit, fourth_digit, last_digit)\n"
   ]
  },
  {
   "cell_type": "code",
   "execution_count": 105,
   "id": "fcef6f2a",
   "metadata": {},
   "outputs": [
    {
     "name": "stdout",
     "output_type": "stream",
     "text": [
      "---------- Integer Division ----------\n",
      "last digit: 5\n",
      "fourth digit: 4\n",
      "third digit: 3\n",
      "second digit: 2\n",
      "first digit: 1\n",
      "all digits: 2 3 4 5 6\n"
     ]
    }
   ],
   "source": [
    "# Test\n",
    "\n",
    "print('-' * 10, 'Integer Division', '-' * 10)\n",
    "print('last digit:', 12345 % 10)\n",
    "print('fourth digit:', (12345 // 10) % 10)\n",
    "print('third digit:', (12345 // 100) % 10)\n",
    "print('second digit:', (12345 // 1000) % 10)\n",
    "print('first digit:', (12345 // 10000) % 10)\n",
    "\n",
    "print('all digits:', first_digit, second_digit, third_digit, fourth_digit, last_digit)\n"
   ]
  }
 ],
 "metadata": {
  "kernelspec": {
   "display_name": "base",
   "language": "python",
   "name": "python3"
  },
  "language_info": {
   "codemirror_mode": {
    "name": "ipython",
    "version": 3
   },
   "file_extension": ".py",
   "mimetype": "text/x-python",
   "name": "python",
   "nbconvert_exporter": "python",
   "pygments_lexer": "ipython3",
   "version": "3.12.2"
  }
 },
 "nbformat": 4,
 "nbformat_minor": 5
}
