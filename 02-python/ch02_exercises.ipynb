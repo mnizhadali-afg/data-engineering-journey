{
 "cells": [
  {
   "cell_type": "code",
   "execution_count": 106,
   "id": "79af961f",
   "metadata": {},
   "outputs": [
    {
     "name": "stdout",
     "output_type": "stream",
     "text": [
      "x = 2\n",
      "Value of 2 + 2 is 4\n",
      "x =  2\n",
      "5 x = 5\n"
     ]
    }
   ],
   "source": [
    "# Exercise: 2.1\n",
    "x = 2\n",
    "y = 3\n",
    "\n",
    "print('x =', x)\n",
    "print('Value of', x, '+', x, 'is', (x + x))\n",
    "print('x = ', x)\n",
    "print((x + y), 'x =', (y + x))"
   ]
  },
  {
   "cell_type": "code",
   "execution_count": 107,
   "id": "a1982b12",
   "metadata": {},
   "outputs": [],
   "source": [
    "# Exercise: 2.2\n",
    "rating = int(input('Enter an integer rating between 1 and 10: '))"
   ]
  },
  {
   "cell_type": "code",
   "execution_count": 108,
   "id": "5ef8dc27",
   "metadata": {},
   "outputs": [
    {
     "name": "stdout",
     "output_type": "stream",
     "text": [
      "\n",
      "Congratulations! Your grade of 65 earns you a D in this course!\n"
     ]
    }
   ],
   "source": [
    "# Exercise: 2.3\n",
    "try:\n",
    "    grade = int(input('Enter a grade between 0 and 100: '))\n",
    "    \n",
    "    if grade > 100 or grade < 0:\n",
    "        print('\\nInvalid grade. Please enter a number between 0 and 100.')\n",
    "    else:\n",
    "        if grade >= 90:\n",
    "            print('\\nCongratulations! Your grade of', grade, 'earns you an A in this course!')\n",
    "        elif grade >= 80:\n",
    "            print('\\nCongratulations! Your grade of', grade, 'earns you a B in this course!')\n",
    "        elif grade >= 70:\n",
    "            print('\\nCongratulations! Your grade of', grade, 'earns you a C in this course!')\n",
    "        elif grade >= 60:\n",
    "            print('\\nCongratulations! Your grade of', grade, 'earns you a D in this course!')\n",
    "        else:\n",
    "            print('\\nSorry, your grade of', grade, 'earns you an F in this course!')\n",
    "except ValueError:\n",
    "    print('\\nInvalid input. Please enter a numeric grade.')"
   ]
  },
  {
   "cell_type": "code",
   "execution_count": 109,
   "id": "4f04e342",
   "metadata": {},
   "outputs": [
    {
     "name": "stdout",
     "output_type": "stream",
     "text": [
      "\n",
      "Result: 29.5\n",
      "Result: 25.5\n",
      "Result: 55.0\n",
      "Result: 13.75\n",
      "Result: 13.0\n",
      "Result: 1.5\n",
      "Result: 756.25\n"
     ]
    }
   ],
   "source": [
    "# Exercise: 2.4\n",
    "print('\\nResult:', 27.5 + 2)\n",
    "print('Result:', 27.5 - 2)\n",
    "print('Result:', 27.5 * 2)\n",
    "print('Result:', 27.5 / 2)\n",
    "print('Result:', 27.5 // 2)\n",
    "print('Result:', 27.5 % 2)\n",
    "print('Result:', 27.5 ** 2)"
   ]
  },
  {
   "cell_type": "code",
   "execution_count": 110,
   "id": "113648bb",
   "metadata": {},
   "outputs": [
    {
     "name": "stdout",
     "output_type": "stream",
     "text": [
      "\n",
      "Circle Area:\n",
      "The area of a circle with radius 2 is 12.56636\n"
     ]
    }
   ],
   "source": [
    "# Exercise: 2.5\n",
    "print('\\nCircle Area:')\n",
    "\n",
    "radius = 2\n",
    "pi = 3.14159\n",
    "area = pi * (radius ** 2)\n",
    "\n",
    "print('The area of a circle with radius', radius, 'is', area)"
   ]
  },
  {
   "cell_type": "code",
   "execution_count": 111,
   "id": "c6c4e0be",
   "metadata": {},
   "outputs": [
    {
     "name": "stdout",
     "output_type": "stream",
     "text": [
      "\n",
      "Odd or Even?\n"
     ]
    }
   ],
   "source": [
    "# Exercise: 2.6\n",
    "print('\\nOdd or Even?')\n",
    "\n",
    "number = int(input('Enter an integer: '))\n",
    "if number % 2 == 0:\n",
    "    print('The number', number, 'is even.')"
   ]
  },
  {
   "cell_type": "code",
   "execution_count": 112,
   "id": "164d12ec",
   "metadata": {},
   "outputs": [
    {
     "name": "stdout",
     "output_type": "stream",
     "text": [
      "1024 is a multiple of 4.\n"
     ]
    }
   ],
   "source": [
    "# Exercise: 2.7\n",
    "if 1024 % 4 == 0:\n",
    "    print('1024 is a multiple of 4.')\n",
    "\n",
    "if 2 % 10 == 0:\n",
    "    print('2 is a multiple of 10.')"
   ]
  },
  {
   "cell_type": "code",
   "execution_count": 113,
   "id": "c9ce8128",
   "metadata": {},
   "outputs": [
    {
     "name": "stdout",
     "output_type": "stream",
     "text": [
      "number\tsquare\tcube\n",
      "----\t----\t----\n",
      "1\t 1 \t 1\n",
      "2\t 4 \t 8\n",
      "3\t 9 \t 27\n",
      "4\t 16 \t 64\n",
      "5\t 25 \t 125\n"
     ]
    }
   ],
   "source": [
    "# Exercise: 2.8\n",
    "print('number\\tsquare\\tcube')\n",
    "print('----\\t----\\t----')\n",
    "print('1\\t', 1 ** 2, '\\t', 1 ** 3)\n",
    "print('2\\t', 2 ** 2, '\\t', 2 ** 3)\n",
    "print('3\\t', 3 ** 2, '\\t', 3 ** 3)\n",
    "print('4\\t', 4 ** 2, '\\t', 4 ** 3)\n",
    "print('5\\t', 5 ** 2, '\\t', 5 ** 3)"
   ]
  },
  {
   "cell_type": "code",
   "execution_count": 114,
   "id": "f689edaa",
   "metadata": {},
   "outputs": [
    {
     "name": "stdout",
     "output_type": "stream",
     "text": [
      "integer equivalent of A 65\n",
      "integer equivalent of B 66\n",
      "integer equivalent of C 67\n",
      "integer equivalent of D 68\n",
      "integer equivalent of a 97\n",
      "integer equivalent of b 98\n",
      "integer equivalent of c 99\n",
      "integer equivalent of d 100\n",
      "integer equivalent of 0 48\n",
      "integer equivalent of 1 49\n",
      "integer equivalent of 2 50\n",
      "integer equivalent of $ 36\n",
      "integer equivalent of * 42\n",
      "integer equivalent of + 43\n",
      "integer equivalent of <space> 32\n"
     ]
    }
   ],
   "source": [
    "# Exercise: 2.9\n",
    "print('integer equivalent of A', ord('A'))\n",
    "print('integer equivalent of B', ord('B'))\n",
    "print('integer equivalent of C', ord('C'))\n",
    "print('integer equivalent of D', ord('D'))\n",
    "print('integer equivalent of a', ord('a'))\n",
    "print('integer equivalent of b', ord('b'))\n",
    "print('integer equivalent of c', ord('c'))\n",
    "print('integer equivalent of d', ord('d'))\n",
    "print('integer equivalent of 0', ord('0'))\n",
    "print('integer equivalent of 1', ord('1'))\n",
    "print('integer equivalent of 2', ord('2'))\n",
    "print('integer equivalent of $', ord('$'))\n",
    "print('integer equivalent of *', ord('*'))\n",
    "print('integer equivalent of +', ord('+'))\n",
    "print('integer equivalent of <space>', ord(' '))\n"
   ]
  },
  {
   "cell_type": "code",
   "execution_count": 115,
   "id": "a4e1e79e",
   "metadata": {},
   "outputs": [
    {
     "name": "stdout",
     "output_type": "stream",
     "text": [
      "\n",
      "You entered: 5 6 9\n",
      "\n",
      "Sum: 20\n",
      "Average: 6.666666666666667\n",
      "Product: 270\n",
      "Smallest: 5\n",
      "Largest: 9\n"
     ]
    }
   ],
   "source": [
    "# Exercise: 2.10\n",
    "# Display the \n",
    "#   sum, \n",
    "#   average, \n",
    "#   product, \n",
    "#   smallest \n",
    "#   and largest \n",
    "# of the numbers.\n",
    "\n",
    "first = int(input('Enter the first integer: '))\n",
    "second = int(input('Enter the second integer: '))\n",
    "third = int(input('Enter the third integer: '))\n",
    "\n",
    "print('\\nYou entered:', first, second, third)\n",
    "\n",
    "print('\\nSum:', first + second + third)\n",
    "print('Average:', (first + second + third) / 3)\n",
    "print('Product:', first * second * third)\n",
    "print('Smallest:', min(first, second, third))\n",
    "print('Largest:', max(first, second, third))"
   ]
  },
  {
   "cell_type": "code",
   "execution_count": 116,
   "id": "fca20449",
   "metadata": {},
   "outputs": [
    {
     "name": "stdout",
     "output_type": "stream",
     "text": [
      "\n",
      "The digits of the number are: 1 2 3 9 8\n"
     ]
    }
   ],
   "source": [
    "# Exercise: 2.11\n",
    "# Separate the digits of a five-digit integer\n",
    "\n",
    "five_digit_number = int(input('Enter a five-digit integer: '))\n",
    "last_digit = five_digit_number % 10\n",
    "fourth_digit = (five_digit_number // 10) % 10\n",
    "third_digit = (five_digit_number // 100) % 10\n",
    "second_digit = (five_digit_number // 1000) % 10\n",
    "first_digit = (five_digit_number // 10000) % 10\n",
    "\n",
    "# now display the digits in one line with spaces\n",
    "print('\\nThe digits of the number are:', first_digit, second_digit, third_digit, fourth_digit, last_digit)\n"
   ]
  },
  {
   "cell_type": "code",
   "execution_count": 1,
   "id": "fcef6f2a",
   "metadata": {},
   "outputs": [
    {
     "name": "stdout",
     "output_type": "stream",
     "text": [
      "\n",
      "After 5 years, the amount of money accumulated will be: $1963.57\n"
     ]
    }
   ],
   "source": [
    "# Exercise: 2.12\n",
    "# 7% Investment Return\n",
    "\n",
    "# Formula: A = P(1 + r)^t\n",
    "# A = amount of money accumulated after n years, including interest.\n",
    "# P = principal amount (the initial amount of money)\n",
    "# r = annual interest rate (decimal)\n",
    "# t = number of years the money is invested for\n",
    "\n",
    "principal = float(input('Enter the principal amount (initial investment): '))\n",
    "annual_rate = 0.07  # 7% interest rate\n",
    "years = int(input('Enter the number of years the money is invested: '))\n",
    "amount = principal * (1 + annual_rate) ** years\n",
    "print(f'\\nAfter {years} years, the amount of money accumulated will be: ${amount:.2f}')"
   ]
  },
  {
   "cell_type": "code",
   "execution_count": 22,
   "id": "fd94a942",
   "metadata": {},
   "outputs": [
    {
     "name": "stdout",
     "output_type": "stream",
     "text": [
      "\n",
      "A very large integer: 10000000000000000000000000000000000000000000000000000000000000000000000000000000000000000000000000000\n",
      "The number of digits in the last integer is: 101\n",
      "An even larger integer: "
     ]
    },
    {
     "ename": "ValueError",
     "evalue": "Exceeds the limit (4300 digits) for integer string conversion; use sys.set_int_max_str_digits() to increase the limit",
     "output_type": "error",
     "traceback": [
      "\u001b[0;31m---------------------------------------------------------------------------\u001b[0m",
      "\u001b[0;31mValueError\u001b[0m                                Traceback (most recent call last)",
      "Cell \u001b[0;32mIn[22], line 15\u001b[0m\n\u001b[1;32m     13\u001b[0m \u001b[38;5;28mprint\u001b[39m(\u001b[38;5;124m'\u001b[39m\u001b[38;5;124mThe number of digits in the last integer is:\u001b[39m\u001b[38;5;124m'\u001b[39m, \u001b[38;5;28mlen\u001b[39m(\u001b[38;5;28mstr\u001b[39m(number)))\n\u001b[1;32m     14\u001b[0m number \u001b[38;5;241m=\u001b[39m \u001b[38;5;241m10\u001b[39m \u001b[38;5;241m*\u001b[39m\u001b[38;5;241m*\u001b[39m \u001b[38;5;241m10000\u001b[39m  \u001b[38;5;66;03m# An even larger integer\u001b[39;00m\n\u001b[0;32m---> 15\u001b[0m \u001b[38;5;28mprint\u001b[39m(\u001b[38;5;124m'\u001b[39m\u001b[38;5;124mAn even larger integer:\u001b[39m\u001b[38;5;124m'\u001b[39m, number)\n",
      "\u001b[0;31mValueError\u001b[0m: Exceeds the limit (4300 digits) for integer string conversion; use sys.set_int_max_str_digits() to increase the limit"
     ]
    }
   ],
   "source": [
    "# Exercise: 2.13\n",
    "# How big can python  integers be?\n",
    "\n",
    "\"\"\"use the exponentiation operator ** with large and very large exponents to produce some huge integers and assign those to the variable number to see if Python accepts them.\"\"\"\n",
    "# number = 10 ** 4299  # A very large integer\n",
    "number = 10 ** 100  # A very large integer\n",
    "print('\\nA very large integer:', number)\n",
    "\n",
    "# You can also try with larger numbers\n",
    "# Python can handle very large integers, so you can keep increasing the exponent.\n",
    "# The number of digits in Python for integer is: 4300\n",
    "\n",
    "print('The number of digits in the last integer is:', len(str(number)))\n",
    "number = 10 ** 10000  # An even larger integer\n",
    "print('An even larger integer:', number)\n"
   ]
  },
  {
   "cell_type": "code",
   "execution_count": null,
   "id": "800a0e5b",
   "metadata": {},
   "outputs": [
    {
     "name": "stdout",
     "output_type": "stream",
     "text": [
      "\n",
      "Your target heart rate is: 94.00 beats per minute.\n"
     ]
    }
   ],
   "source": [
    "# Exercise: 2.14\n",
    "# Target Heart Rate Calculator\n",
    "# Formula: (AHA: American Heart Association) 50 # to 85 percent of your maximum heart rate.\n",
    "\n",
    "age = int(input('Enter your age: '))\n",
    "target_heart_rate = (220 - age) * 0.5\n",
    "print(f'\\nYour target heart rate is: {target_heart_rate:.2f} beats per minute.')\n"
   ]
  },
  {
   "cell_type": "code",
   "execution_count": null,
   "id": "f6528a34",
   "metadata": {},
   "outputs": [
    {
     "name": "stdout",
     "output_type": "stream",
     "text": [
      "\n",
      "The numbers in increasing order are: 8.0, 19.0, 21.0\n"
     ]
    }
   ],
   "source": [
    "# Exercise: 2.15\n",
    "# Sort in ascending order\n",
    "# Write a script that inputs three different floating-point numbers from the user. Display the numbers in increasing order\n",
    "# Prove that your script works by running it on all six possible orderings of the numbers.\n",
    "# Six possible orderings of three numbers are:\n",
    "### 1. a <= b <= c\n",
    "### 2. c <= b <= a\n",
    "### 3. b <= a <= c\n",
    "### 4. c <= a <= b\n",
    "### 5. a <= c <= b\n",
    "### 6. b <= c <= a\n",
    "\n",
    "def sort_numbers(a, b, c):\n",
    "    if a <= b <= c:\n",
    "        return a, b, c\n",
    "    elif a <= c <= b:\n",
    "        return a, c, b\n",
    "    elif b <= a <= c:\n",
    "        return b, a, c\n",
    "    elif b <= c <= a:\n",
    "        return b, c, a\n",
    "    elif c <= a <= b:\n",
    "        return c, a, b\n",
    "    else:  # c <= b <= a\n",
    "        return c, b, a\n",
    "\n",
    "# Input three different floating-point numbers\n",
    "num1 = float(input('Enter the first floating-point number: '))\n",
    "num2 = float(input('Enter the second floating-point number: '))\n",
    "num3 = float(input('Enter the third floating-point number: '))\n",
    "sorted_numbers = sort_numbers(num1, num2, num3)\n",
    "print(f'\\nThe numbers in increasing order are: {sorted_numbers[0]}, {sorted_numbers[1]}, {sorted_numbers[2]}')\n"
   ]
  }
 ],
 "metadata": {
  "kernelspec": {
   "display_name": "base",
   "language": "python",
   "name": "python3"
  },
  "language_info": {
   "codemirror_mode": {
    "name": "ipython",
    "version": 3
   },
   "file_extension": ".py",
   "mimetype": "text/x-python",
   "name": "python",
   "nbconvert_exporter": "python",
   "pygments_lexer": "ipython3",
   "version": "3.12.2"
  }
 },
 "nbformat": 4,
 "nbformat_minor": 5
}
