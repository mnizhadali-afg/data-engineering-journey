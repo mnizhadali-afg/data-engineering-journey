{
 "cells": [
  {
   "cell_type": "code",
   "execution_count": 6,
   "id": "8499dfcf",
   "metadata": {},
   "outputs": [],
   "source": [
    "# Arithmetic operations in Python\n",
    "\n",
    "# Initializing variables\n",
    "a = 5\n",
    "b = 3\n",
    "e = 10\n",
    "f = 2\n"
   ]
  },
  {
   "cell_type": "code",
   "execution_count": 7,
   "id": "15c3a719",
   "metadata": {},
   "outputs": [
    {
     "name": "stdout",
     "output_type": "stream",
     "text": [
      "Addition: 8\n",
      "Subtraction: 2\n",
      "Multiplication: 15\n",
      "Division: 1.6666666666666667\n",
      "Floor Division: 1\n",
      "Modulus: 2\n",
      "Exponentiation: 125\n"
     ]
    }
   ],
   "source": [
    "# Adding two numbers\n",
    "c = a + b\n",
    "\n",
    "# Subtraction\n",
    "d = a - b\n",
    "\n",
    "# Multiplication\n",
    "e = a * b\n",
    "\n",
    "# Division\n",
    "f = a / b\n",
    "\n",
    "# Floor Division\n",
    "g = a // b\n",
    "\n",
    "# Modulus\n",
    "h = a % b\n",
    "\n",
    "# Exponentiation\n",
    "i = a ** b\n",
    "\n",
    "# Printing results\n",
    "print(\"Addition:\", c)\n",
    "print(\"Subtraction:\", d)\n",
    "print(\"Multiplication:\", e)\n",
    "print(\"Division:\", f)\n",
    "print(\"Floor Division:\", g)\n",
    "print(\"Modulus:\", h)\n",
    "print(\"Exponentiation:\", i)\n"
   ]
  },
  {
   "cell_type": "code",
   "execution_count": 8,
   "id": "cfd22dcf",
   "metadata": {},
   "outputs": [
    {
     "name": "stdout",
     "output_type": "stream",
     "text": [
      "\n",
      "Types of variables:\n",
      "Type of a: <class 'int'>\n",
      "Type of b: <class 'int'>\n",
      "Type of c: <class 'int'>\n",
      "Type of d: <class 'int'>\n",
      "Type of e: <class 'int'>\n",
      "Type of f: <class 'float'>\n",
      "Grouped Expression Result: 106.66666666666667\n"
     ]
    }
   ],
   "source": [
    "# Understanding types\n",
    "print(\"\\nTypes of variables:\")\n",
    "print(\"Type of a:\", type(a))\n",
    "print(\"Type of b:\", type(b))\n",
    "print(\"Type of c:\", type(c))\n",
    "print(\"Type of d:\", type(d))\n",
    "print(\"Type of e:\", type(e))\n",
    "print(\"Type of f:\", type(f))\n",
    "\n",
    "# Grouping Expressions with Parentheses\n",
    "j = (a + b) * (e - f)\n",
    "print(\"Grouped Expression Result:\", j)"
   ]
  }
 ],
 "metadata": {
  "kernelspec": {
   "display_name": "base",
   "language": "python",
   "name": "python3"
  },
  "language_info": {
   "codemirror_mode": {
    "name": "ipython",
    "version": 3
   },
   "file_extension": ".py",
   "mimetype": "text/x-python",
   "name": "python",
   "nbconvert_exporter": "python",
   "pygments_lexer": "ipython3",
   "version": "3.12.2"
  }
 },
 "nbformat": 4,
 "nbformat_minor": 5
}
