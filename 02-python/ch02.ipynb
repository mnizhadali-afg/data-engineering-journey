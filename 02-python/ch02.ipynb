{
 "cells": [
  {
   "cell_type": "code",
   "execution_count": 84,
   "id": "8499dfcf",
   "metadata": {},
   "outputs": [],
   "source": [
    "# Arithmetic operations in Python\n",
    "\n",
    "# Initializing variables\n",
    "a = 5\n",
    "b = 3\n",
    "e = 10\n",
    "f = 2\n"
   ]
  },
  {
   "cell_type": "code",
   "execution_count": 85,
   "id": "15c3a719",
   "metadata": {},
   "outputs": [
    {
     "name": "stdout",
     "output_type": "stream",
     "text": [
      "Addition: 8\n",
      "Subtraction: 2\n",
      "Multiplication: 15\n",
      "Division: 1.6666666666666667\n",
      "Floor Division: 1\n",
      "Modulus: 2\n",
      "Exponentiation: 125\n"
     ]
    }
   ],
   "source": [
    "# Adding two numbers\n",
    "c = a + b\n",
    "\n",
    "# Subtraction\n",
    "d = a - b\n",
    "\n",
    "# Multiplication\n",
    "e = a * b\n",
    "\n",
    "# Division\n",
    "f = a / b\n",
    "\n",
    "# Floor Division\n",
    "g = a // b\n",
    "\n",
    "# Modulus\n",
    "h = a % b\n",
    "\n",
    "# Exponentiation\n",
    "i = a ** b\n",
    "\n",
    "# Printing results\n",
    "print(\"Addition:\", c)\n",
    "print(\"Subtraction:\", d)\n",
    "print(\"Multiplication:\", e)\n",
    "print(\"Division:\", f)\n",
    "print(\"Floor Division:\", g)\n",
    "print(\"Modulus:\", h)\n",
    "print(\"Exponentiation:\", i)\n"
   ]
  },
  {
   "cell_type": "code",
   "execution_count": 86,
   "id": "cfd22dcf",
   "metadata": {},
   "outputs": [
    {
     "name": "stdout",
     "output_type": "stream",
     "text": [
      "\n",
      "Types of variables:\n",
      "Type of a: <class 'int'>\n",
      "Type of b: <class 'int'>\n",
      "Type of c: <class 'int'>\n",
      "Type of d: <class 'int'>\n",
      "Type of e: <class 'int'>\n",
      "Type of f: <class 'float'>\n",
      "Grouped Expression Result: 106.66666666666667\n"
     ]
    }
   ],
   "source": [
    "# Understanding types\n",
    "print(\"\\nTypes of variables:\")\n",
    "print(\"Type of a:\", type(a))\n",
    "print(\"Type of b:\", type(b))\n",
    "print(\"Type of c:\", type(c))\n",
    "print(\"Type of d:\", type(d))\n",
    "print(\"Type of e:\", type(e))\n",
    "print(\"Type of f:\", type(f))\n",
    "\n",
    "# Grouping Expressions with Parentheses\n",
    "j = (a + b) * (e - f)\n",
    "print(\"Grouped Expression Result:\", j)"
   ]
  },
  {
   "cell_type": "code",
   "execution_count": 87,
   "id": "de77e9f8",
   "metadata": {},
   "outputs": [
    {
     "name": "stdout",
     "output_type": "stream",
     "text": [
      "Complex Grouped Expression Result: 53.333333333333336\n",
      "Using Variables in Expression Result: 17.77777777777778\n",
      "More Complex Expression Result: 15.238095238095239\n"
     ]
    }
   ],
   "source": [
    "# Grouping expressions with parentheses\n",
    "k = (a + b) * (e - f) / (a - b)\n",
    "print(\"Complex Grouped Expression Result:\", k)\n",
    "\n",
    "# Using variables in expressions\n",
    "l = (a + b) * (e - f) / (c - d)\n",
    "print(\"Using Variables in Expression Result:\", l)\n",
    "\n",
    "# Using variables in a more complex expression\n",
    "m = (a + b) * (e - f) / (c - d + 1)\n",
    "print(\"More Complex Expression Result:\", m)\n"
   ]
  },
  {
   "cell_type": "code",
   "execution_count": 88,
   "id": "97b238eb",
   "metadata": {},
   "outputs": [
    {
     "name": "stdout",
     "output_type": "stream",
     "text": [
      "Polynomial Result: 34\n"
     ]
    }
   ],
   "source": [
    "# You can use redundant parentheses to group subexpressions to make the expression clearer. For example, the second-degree polynomial\n",
    "x = 2\n",
    "y = a * x ** 2 + b * x + c\n",
    "\n",
    "#can be parenthesized, for clarity, as\n",
    "\n",
    "y = (a * (x ** 2)) + (b * x) + c\n",
    "# Breaking a complex expression into a sequence of statements with shorter, simpler expressions also can promote clarity.\n",
    "print(\"Polynomial Result:\", y)"
   ]
  },
  {
   "cell_type": "code",
   "execution_count": 89,
   "id": "85a651d1",
   "metadata": {},
   "outputs": [
    {
     "name": "stdout",
     "output_type": "stream",
     "text": [
      "\n",
      "Operator Precedence Demonstration:\n",
      "4 ** 3 ** 2 = 262144\n",
      "(4 ** 3) ** 2 = 4096\n",
      "4 ** (3 ** 2) = 262144\n"
     ]
    }
   ],
   "source": [
    "# Demonstrating operator precedence\n",
    "print(\"\\nOperator Precedence Demonstration:\")\n",
    "print(\"4 ** 3 ** 2 =\", 4 ** 3 ** 2)  # Right associative\n",
    "print(\"(4 ** 3) ** 2 =\", (4 ** 3) ** 2)  # Left associative\n",
    "print(\"4 ** (3 ** 2) =\", 4 ** (3 ** 2))  # Right associative"
   ]
  },
  {
   "cell_type": "code",
   "execution_count": 90,
   "id": "1dad205b",
   "metadata": {},
   "outputs": [
    {
     "name": "stdout",
     "output_type": "stream",
     "text": [
      "\n",
      "Single vs Double Quotes:\n",
      "Single quotes: Hello, World!\n",
      "Double quotes: Hello, World!\n",
      "Triple quotes:\n",
      "This is a multi-line string.\n",
      "You can use triple quotes to span multiple lines\n",
      "and include both single and double quotes without escaping.\n",
      "\n",
      "Formatted Output with f-strings: My name is Ali and I am 32 years old.\n",
      "\n",
      "Formatted Output with format method: My name is Ali and I am 32 years old.\n",
      "\n",
      "Formatted Output with MODULO operator: My name is Ali and I am 32 years old.\n",
      "Age in octal format: 40\n"
     ]
    }
   ],
   "source": [
    "# Different between single and double quotes\n",
    "print(\"\\nSingle vs Double Quotes:\")\n",
    "print('Single quotes: Hello, World!')\n",
    "print(\"Double quotes: Hello, World!\")\n",
    "# Using triple quotes for multi-line strings\n",
    "print('''Triple quotes:\n",
    "This is a multi-line string.\n",
    "You can use triple quotes to span multiple lines\n",
    "and include both single and double quotes without escaping.''')\n",
    "# Using f-strings for formatted output\n",
    "name = \"Ali\"\n",
    "age = 32\n",
    "print(f\"\\nFormatted Output with f-strings: My name is {name} and I am {age} years old.\")\n",
    "# Using format method for formatted output\n",
    "print(\"\\nFormatted Output with format method: My name is {} and I am {} years old.\".format(name, age))\n",
    "# Using % operator for formatted output\n",
    "modulo_operator = \"%\"\n",
    "print(\"\\nFormatted Output with MODULO operator: My name is %s and I am %d years old.\" % (name, age))\n",
    "# Example of using %o for octal formatting with an integer\n",
    "# Make sure to use an integer, not a string\n",
    "print(\"Age in octal format: %o\" % age)"
   ]
  },
  {
   "cell_type": "code",
   "execution_count": null,
   "id": "91dc424b",
   "metadata": {},
   "outputs": [],
   "source": []
  }
 ],
 "metadata": {
  "kernelspec": {
   "display_name": "base",
   "language": "python",
   "name": "python3"
  },
  "language_info": {
   "codemirror_mode": {
    "name": "ipython",
    "version": 3
   },
   "file_extension": ".py",
   "mimetype": "text/x-python",
   "name": "python",
   "nbconvert_exporter": "python",
   "pygments_lexer": "ipython3",
   "version": "3.12.2"
  }
 },
 "nbformat": 4,
 "nbformat_minor": 5
}
