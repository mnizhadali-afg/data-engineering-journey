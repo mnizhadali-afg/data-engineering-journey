{
 "cells": [
  {
   "cell_type": "code",
   "execution_count": 114,
   "id": "8499dfcf",
   "metadata": {},
   "outputs": [],
   "source": [
    "# Arithmetic operations in Python\n",
    "\n",
    "# Initializing variables\n",
    "a = 5\n",
    "b = 3\n",
    "e = 10\n",
    "f = 2\n"
   ]
  },
  {
   "cell_type": "code",
   "execution_count": 115,
   "id": "15c3a719",
   "metadata": {},
   "outputs": [
    {
     "name": "stdout",
     "output_type": "stream",
     "text": [
      "Addition: 8\n",
      "Subtraction: 2\n",
      "Multiplication: 15\n",
      "Division: 1.6666666666666667\n",
      "Floor Division: 1\n",
      "Modulus: 2\n",
      "Exponentiation: 125\n"
     ]
    }
   ],
   "source": [
    "# Adding two numbers\n",
    "c = a + b\n",
    "\n",
    "# Subtraction\n",
    "d = a - b\n",
    "\n",
    "# Multiplication\n",
    "e = a * b\n",
    "\n",
    "# Division\n",
    "f = a / b\n",
    "\n",
    "# Floor Division\n",
    "g = a // b\n",
    "\n",
    "# Modulus\n",
    "h = a % b\n",
    "\n",
    "# Exponentiation\n",
    "i = a ** b\n",
    "\n",
    "# Printing results\n",
    "print(\"Addition:\", c)\n",
    "print(\"Subtraction:\", d)\n",
    "print(\"Multiplication:\", e)\n",
    "print(\"Division:\", f)\n",
    "print(\"Floor Division:\", g)\n",
    "print(\"Modulus:\", h)\n",
    "print(\"Exponentiation:\", i)\n"
   ]
  },
  {
   "cell_type": "code",
   "execution_count": 116,
   "id": "cfd22dcf",
   "metadata": {},
   "outputs": [
    {
     "name": "stdout",
     "output_type": "stream",
     "text": [
      "\n",
      "Types of variables:\n",
      "Type of a: <class 'int'>\n",
      "Type of b: <class 'int'>\n",
      "Type of c: <class 'int'>\n",
      "Type of d: <class 'int'>\n",
      "Type of e: <class 'int'>\n",
      "Type of f: <class 'float'>\n",
      "Grouped Expression Result: 106.66666666666667\n"
     ]
    }
   ],
   "source": [
    "# Understanding types\n",
    "print(\"\\nTypes of variables:\")\n",
    "print(\"Type of a:\", type(a))\n",
    "print(\"Type of b:\", type(b))\n",
    "print(\"Type of c:\", type(c))\n",
    "print(\"Type of d:\", type(d))\n",
    "print(\"Type of e:\", type(e))\n",
    "print(\"Type of f:\", type(f))\n",
    "\n",
    "# Grouping Expressions with Parentheses\n",
    "j = (a + b) * (e - f)\n",
    "print(\"Grouped Expression Result:\", j)"
   ]
  },
  {
   "cell_type": "code",
   "execution_count": 117,
   "id": "de77e9f8",
   "metadata": {},
   "outputs": [
    {
     "name": "stdout",
     "output_type": "stream",
     "text": [
      "Complex Grouped Expression Result: 53.333333333333336\n",
      "Using Variables in Expression Result: 17.77777777777778\n",
      "More Complex Expression Result: 15.238095238095239\n"
     ]
    }
   ],
   "source": [
    "# Grouping expressions with parentheses\n",
    "k = (a + b) * (e - f) / (a - b)\n",
    "print(\"Complex Grouped Expression Result:\", k)\n",
    "\n",
    "# Using variables in expressions\n",
    "l = (a + b) * (e - f) / (c - d)\n",
    "print(\"Using Variables in Expression Result:\", l)\n",
    "\n",
    "# Using variables in a more complex expression\n",
    "m = (a + b) * (e - f) / (c - d + 1)\n",
    "print(\"More Complex Expression Result:\", m)\n"
   ]
  },
  {
   "cell_type": "code",
   "execution_count": 118,
   "id": "97b238eb",
   "metadata": {},
   "outputs": [
    {
     "name": "stdout",
     "output_type": "stream",
     "text": [
      "Polynomial Result: 34\n"
     ]
    }
   ],
   "source": [
    "# You can use redundant parentheses to group subexpressions to make the expression clearer. For example, the second-degree polynomial\n",
    "x = 2\n",
    "y = a * x ** 2 + b * x + c\n",
    "\n",
    "#can be parenthesized, for clarity, as\n",
    "\n",
    "y = (a * (x ** 2)) + (b * x) + c\n",
    "# Breaking a complex expression into a sequence of statements with shorter, simpler expressions also can promote clarity.\n",
    "print(\"Polynomial Result:\", y)"
   ]
  },
  {
   "cell_type": "code",
   "execution_count": 119,
   "id": "85a651d1",
   "metadata": {},
   "outputs": [
    {
     "name": "stdout",
     "output_type": "stream",
     "text": [
      "\n",
      "Operator Precedence Demonstration:\n",
      "4 ** 3 ** 2 = 262144\n",
      "(4 ** 3) ** 2 = 4096\n",
      "4 ** (3 ** 2) = 262144\n"
     ]
    }
   ],
   "source": [
    "# Demonstrating operator precedence\n",
    "print(\"\\nOperator Precedence Demonstration:\")\n",
    "print(\"4 ** 3 ** 2 =\", 4 ** 3 ** 2)  # Right associative\n",
    "print(\"(4 ** 3) ** 2 =\", (4 ** 3) ** 2)  # Left associative\n",
    "print(\"4 ** (3 ** 2) =\", 4 ** (3 ** 2))  # Right associative"
   ]
  },
  {
   "cell_type": "code",
   "execution_count": 120,
   "id": "1dad205b",
   "metadata": {},
   "outputs": [
    {
     "name": "stdout",
     "output_type": "stream",
     "text": [
      "\n",
      "Single vs Double Quotes:\n",
      "Single quotes: Hello, World!\n",
      "Double quotes: Hello, World!\n",
      "Triple quotes:\n",
      "This is a multi-line string.\n",
      "You can use triple quotes to span multiple lines\n",
      "and include both single and double quotes without escaping.\n",
      "\n",
      "Formatted Output with f-strings: My name is Ali and I am 32 years old.\n",
      "\n",
      "Formatted Output with format method: My name is Ali and I am 32 years old.\n",
      "\n",
      "Formatted Output with MODULO operator: My name is Ali and I am 32 years old.\n",
      "Age in octal format: 40\n"
     ]
    }
   ],
   "source": [
    "# Different between single and double quotes\n",
    "print(\"\\nSingle vs Double Quotes:\")\n",
    "print('Single quotes: Hello, World!')\n",
    "print(\"Double quotes: Hello, World!\")\n",
    "# Using triple quotes for multi-line strings\n",
    "print('''Triple quotes:\n",
    "This is a multi-line string.\n",
    "You can use triple quotes to span multiple lines\n",
    "and include both single and double quotes without escaping.''')\n",
    "# Using f-strings for formatted output\n",
    "name = \"Ali\"\n",
    "age = 32\n",
    "print(f\"\\nFormatted Output with f-strings: My name is {name} and I am {age} years old.\")\n",
    "# Using format method for formatted output\n",
    "print(\"\\nFormatted Output with format method: My name is {} and I am {} years old.\".format(name, age))\n",
    "# Using % operator for formatted output\n",
    "modulo_operator = \"%\"\n",
    "print(\"\\nFormatted Output with MODULO operator: My name is %s and I am %d years old.\" % (name, age))\n",
    "# Example of using %o for octal formatting with an integer\n",
    "# Make sure to use an integer, not a string\n",
    "print(\"Age in octal format: %o\" % age)"
   ]
  },
  {
   "cell_type": "code",
   "execution_count": 121,
   "id": "91dc424b",
   "metadata": {},
   "outputs": [
    {
     "name": "stdout",
     "output_type": "stream",
     "text": [
      "\n",
      " ----- Other Escape Sequences ----- \n",
      "Newline character:\n",
      "This text is on a new line.\n",
      "Tab character:\tThis text is indented with a tab.\n",
      "Backslash character: This is a backslash (\\).\n",
      "Single quote character: This is a single quote (').\n",
      "Double quote character: This is a double quote (\").\n"
     ]
    }
   ],
   "source": [
    "# Other Escape Sequences\n",
    "print(\"\\n ----- Other Escape Sequences ----- \")\n",
    "print(\"Newline character:\\nThis text is on a new line.\")\n",
    "print(\"Tab character:\\tThis text is indented with a tab.\")\n",
    "print(\"Backslash character: This is a backslash (\\\\).\")\n",
    "print(\"Single quote character: This is a single quote (').\")\n",
    "print(\"Double quote character: This is a double quote (\\\").\")"
   ]
  },
  {
   "cell_type": "code",
   "execution_count": 122,
   "id": "bbe2eb3e",
   "metadata": {},
   "outputs": [
    {
     "name": "stdout",
     "output_type": "stream",
     "text": [
      "\n",
      "Long String without Line Break:\n",
      "This is a very long string that we want to break into multiple lines without actually breaking the line in the output. We can use a backslash at the end of the line to continue it on the next line.\n",
      "Type of (long_string) <class 'str'>\n"
     ]
    }
   ],
   "source": [
    "# Ignoring a Line Break in a Long String\n",
    "long_string = \"This is a very long string that we want to break into multiple lines \" \\\n",
    "              \"without actually breaking the line in the output. \" \\\n",
    "              \"We can use a backslash at the end of the line to continue it on the next line.\"\n",
    "print(\"\\nLong String without Line Break:\")\n",
    "print(long_string)\n",
    "print(\"Type of (long_string)\", type(long_string))  # Check the type of the long string"
   ]
  },
  {
   "cell_type": "code",
   "execution_count": 123,
   "id": "ad709f1a",
   "metadata": {},
   "outputs": [
    {
     "name": "stdout",
     "output_type": "stream",
     "text": [
      "\n",
      "Value of the Expression (5 + 3 * 2): 11\n",
      "<class 'int'>\n"
     ]
    }
   ],
   "source": [
    "# Printing the Value of an Expression\n",
    "expression_value = 5 + 3 * 2\n",
    "print(\"\\nValue of the Expression (5 + 3 * 2):\", expression_value)\n",
    "print(type(expression_value))\n"
   ]
  },
  {
   "cell_type": "code",
   "execution_count": 125,
   "id": "2e103afd",
   "metadata": {},
   "outputs": [
    {
     "name": "stdout",
     "output_type": "stream",
     "text": [
      "USER_INPUT before CONVERSION: <class 'str'>\n",
      "Converted to integer: 12\n",
      "USER_INPUT after CONVERSION: <class 'int'>\n",
      "Converted to integer: 12\n",
      "SECOND_INPUT after CONVERSION: <class 'int'>\n",
      "24\n",
      "FLOAT_INPUT: 1.2\n",
      "Type of FLOAT_INPUT: <class 'float'>\n"
     ]
    }
   ],
   "source": [
    "# Getting Input from the User\n",
    "user_input = input(\"\\nEnter a number: \")\n",
    "\n",
    "# Displaying the type of user input\n",
    "print(\"USER_INPUT before CONVERSION:\", type(user_input))\n",
    "\n",
    "# converting user input to an integer\n",
    "try:\n",
    "    user_input_int = int(user_input)\n",
    "    print(\"Converted to integer:\", user_input_int)\n",
    "except ValueError:\n",
    "    print(\"Invalid input! Could not convert to integer.\")\n",
    "\n",
    "print(\"USER_INPUT after CONVERSION:\", type(user_input_int))\n",
    "\n",
    "second_input = input(\"Enter another number: \")\n",
    "# converting second input to an integer\n",
    "try:\n",
    "    second_input_int = int(second_input)\n",
    "    print(\"Converted to integer:\", second_input_int)\n",
    "except ValueError:\n",
    "    print(\"Invalid input! Could not convert to integer.\")\n",
    "print(\"SECOND_INPUT after CONVERSION:\", type(second_input_int))\n",
    "\n",
    "print(user_input_int + second_input_int)  # Adding the two integers\n",
    "\n",
    "# int(input(\"Enter a number: \"))  # We can also do this in one line, but it's less readable\n",
    "\n",
    "float_input = float(input(\"\\nEnter a floating-point number: \"))\n",
    "# Displaying the type of float input\n",
    "print(\"FLOAT_INPUT:\", float_input)\n",
    "print(\"Type of FLOAT_INPUT:\", type(float_input))  # Check the type of the float input"
   ]
  },
  {
   "cell_type": "code",
   "execution_count": 127,
   "id": "4f61dacd",
   "metadata": {},
   "outputs": [
    {
     "name": "stdout",
     "output_type": "stream",
     "text": [
      "\n",
      "Comparison Operators:\n",
      "==\n",
      "!=\n",
      "<\n",
      ">\n",
      "<=\n",
      ">=\n"
     ]
    }
   ],
   "source": [
    "# Decision Making with if-else\n",
    "# List of comparison operators\n",
    "comparison_operators = [\n",
    "    \"==\",  # Equal to\n",
    "    \"!=\",  # Not equal to\n",
    "    \"<\",   # Less than\n",
    "    \">\",   # Greater than\n",
    "    \"<=\",  # Less than or equal to\n",
    "    \">=\"   # Greater than or equal to\n",
    "]\n",
    "# Displaying the comparison operators\n",
    "print(\"\\nComparison Operators:\")\n",
    "for operator in comparison_operators:\n",
    "    print(operator)"
   ]
  }
 ],
 "metadata": {
  "kernelspec": {
   "display_name": "base",
   "language": "python",
   "name": "python3"
  },
  "language_info": {
   "codemirror_mode": {
    "name": "ipython",
    "version": 3
   },
   "file_extension": ".py",
   "mimetype": "text/x-python",
   "name": "python",
   "nbconvert_exporter": "python",
   "pygments_lexer": "ipython3",
   "version": "3.12.2"
  }
 },
 "nbformat": 4,
 "nbformat_minor": 5
}
