{
 "cells": [
  {
   "cell_type": "code",
   "execution_count": null,
   "id": "e49790ff",
   "metadata": {},
   "outputs": [],
   "source": [
    "# Control Statements in Python\n",
    "\n",
    "# if statement\n",
    "x = 10\n",
    "if x > 5:\n",
    "    print(\"x is greater than 5\")"
   ]
  },
  {
   "cell_type": "code",
   "execution_count": null,
   "id": "403f9d6c",
   "metadata": {},
   "outputs": [],
   "source": [
    "\n",
    "# if-else statement\n",
    "y = 3\n",
    "if y > 5:\n",
    "    print(\"y is greater than 5\")\n",
    "else:\n",
    "    print(\"y is not greater than 5\")"
   ]
  },
  {
   "cell_type": "code",
   "execution_count": null,
   "id": "ac2af3ab",
   "metadata": {},
   "outputs": [],
   "source": [
    "    \n",
    "# if-elif-else statement\n",
    "z = 7\n",
    "if z > 10:\n",
    "    print(\"z is greater than 10\")\n",
    "elif z > 5:\n",
    "    print(\"z is greater than 5 but not greater than 10\")\n",
    "else:\n",
    "    print(\"z is not greater than 5\")"
   ]
  },
  {
   "cell_type": "code",
   "execution_count": null,
   "id": "7028388e",
   "metadata": {},
   "outputs": [],
   "source": [
    "# Nested if statement\n",
    "a = 15\n",
    "if a > 10:\n",
    "    print(\"a is greater than 10\")\n",
    "    if a > 20:\n",
    "        print(\"a is also greater than 20\")\n",
    "    else:\n",
    "        print(\"a is not greater than 20\")"
   ]
  },
  {
   "cell_type": "code",
   "execution_count": 13,
   "id": "1d02d864",
   "metadata": {},
   "outputs": [
    {
     "name": "stdout",
     "output_type": "stream",
     "text": [
      "Iteration 0, Iteration 1, Iteration 2, Iteration 3, Iteration 4, --------------------\n",
      "Fruit: apple\n",
      "Fruit: banana\n",
      "Fruit: cherry\n",
      "--------------------\n",
      "1 is odd, 2 is even\n",
      "3 is odd, 4 is even\n",
      "5 is odd, 6 is even\n",
      "7 is odd, 8 is even\n",
      "9 is odd, 10 is even\n",
      "\n",
      "\n"
     ]
    }
   ],
   "source": [
    "\n",
    "# Loops in Python\n",
    "# for loop example 1\n",
    "for i in range(5):\n",
    "    print(f\"Iteration {i}\", end=\", \")\n",
    "\n",
    "# print a separator line\n",
    "print(\"-\" * 20)\n",
    "\n",
    "# for loop example 2 with sep keyword argument\n",
    "fruits = [\"apple\", \"banana\", \"cherry\"]\n",
    "for fruit in fruits:\n",
    "    print(f\"Fruit: {fruit}\", sep=\", \")\n",
    "\n",
    "# print a separator line\n",
    "print(\"-\" * 20)\n",
    " \n",
    "# for loop example 3 with end keyword argument\n",
    "# range(): Generates a sequence of numbers\n",
    "for i in range(1, 11):\n",
    "    if i % 2 == 0:\n",
    "        print(f\"{i} is even\")\n",
    "    else:\n",
    "        print(f\"{i} is odd\", end=\", \")\n",
    "print(\"\\n\")"
   ]
  },
  {
   "cell_type": "code",
   "execution_count": null,
   "id": "3f99267b",
   "metadata": {},
   "outputs": [],
   "source": [
    "      \n",
    "# while loop example\n",
    "count = 0\n",
    "while count < 5:\n",
    "    print(f\"Count is {count}\")\n",
    "    count += 1\n",
    "\n",
    "# print a separator line\n",
    "print(\"-\" * 20)\n",
    "\n",
    "# while loop with break\n",
    "count = 0\n",
    "while True:\n",
    "    if count >= 5:\n",
    "        break\n",
    "    print(f\"Count is {count}\")\n",
    "    count += 1"
   ]
  },
  {
   "cell_type": "code",
   "execution_count": 1,
   "id": "449d6f0f",
   "metadata": {},
   "outputs": [
    {
     "name": "stdout",
     "output_type": "stream",
     "text": [
      "Hello, World\n",
      "0 1 2 3 4 \n"
     ]
    }
   ],
   "source": [
    "# sep and end keywords in print function\n",
    "print(\"Hello\", \"World\", sep=\", \")\n",
    "\n",
    "# Using the end keyword in print function\n",
    "for i in range(5):\n",
    "    print(i, end=\" \")\n",
    "print()  # To move to the next line after the loop"
   ]
  },
  {
   "cell_type": "code",
   "execution_count": 15,
   "id": "d0e9d6f9",
   "metadata": {},
   "outputs": [
    {
     "name": "stdout",
     "output_type": "stream",
     "text": [
      "1 2 3 4 5 "
     ]
    }
   ],
   "source": [
    "# off-by-one error example\n",
    "for i in range(1, 6):  # This will print numbers from 1 to 5\n",
    "    print(i, end=\" \")"
   ]
  },
  {
   "cell_type": "code",
   "execution_count": null,
   "id": "0eeac20b",
   "metadata": {},
   "outputs": [
    {
     "name": "stdout",
     "output_type": "stream",
     "text": [
      "\n",
      "Initial value of x: 10\n",
      "\n",
      "x After += : 15\n",
      "x After -= : 12\n",
      "x After *= : 24\n",
      "x After /= : 6.0\n",
      "x After //= : 3.0\n",
      "x After %= : 0.0\n",
      "x After **= : 0.0\n",
      "--------------------\n",
      "Current number: 0\n",
      "Current number: 1\n",
      "Current number: 2\n",
      "Current number: 3\n",
      "Current number: 4\n"
     ]
    }
   ],
   "source": [
    "# All Augmented assignment operators\n",
    "x = 10\n",
    "print(f\"\\nInitial value of x: {x}\")\n",
    "x += 5  # x = x + 5\n",
    "print(f\"\\nx After += : {x}\")\n",
    "x -= 3  # x = x - 3\n",
    "print(f\"x After -= : {x}\")\n",
    "x *= 2  # x = x * 2\n",
    "print(f\"x After *= : {x}\")\n",
    "x /= 4  # x = x / 4\n",
    "print(f\"x After /= : {x}\")\n",
    "x //= 2  # x = x // 2\n",
    "print(f\"x After //= : {x}\")\n",
    "x %= 3  # x = x % 3\n",
    "print(f\"x After %= : {x}\")\n",
    "x **= 2  # x = x ** 2\n",
    "print(f\"x After **= : {x}\")\n",
    "\n",
    "# print a separator line\n",
    "print(\"-\" * 20)"
   ]
  },
  {
   "cell_type": "code",
   "execution_count": 1,
   "id": "cb2764d8",
   "metadata": {},
   "outputs": [
    {
     "name": "stdout",
     "output_type": "stream",
     "text": [
      "Class average: 87.67\n"
     ]
    }
   ],
   "source": [
    "\"\"\"Class average program with sequenced-controlled loop\"\"\"\n",
    "total = 0\n",
    "count = 0\n",
    "grades = [97, 85, 76, 88, 92, 100, 67, 89, 95]\n",
    "for grade in grades:\n",
    "    total += grade\n",
    "    count += 1\n",
    "average = total / count\n",
    "print(f\"Class average: {average:.2f}\")"
   ]
  },
  {
   "cell_type": "code",
   "execution_count": 2,
   "id": "c3b740c7",
   "metadata": {},
   "outputs": [
    {
     "name": "stdout",
     "output_type": "stream",
     "text": [
      "Class average: 78.25\n"
     ]
    }
   ],
   "source": [
    "\"\"\"Class average program with sentinel-controlled loop\"\"\"\n",
    "total = 0\n",
    "count = 0\n",
    "grades = [97, 85, 76, 88, 92, 100, 67, 89, 95]\n",
    "\n",
    "while grade != -1:  # Sentinel value to end the loop\n",
    "    total += grade\n",
    "    count += 1\n",
    "    grade = int(input(\"Enter a grade (-1 to end): \"))\n",
    "\n",
    "if grade == -1 and count > 0:\n",
    "    average = total / count\n",
    "    print(f\"Class average: {average:.2f}\")\n",
    "else:\n",
    "    print(\"No grades were entered.\")"
   ]
  },
  {
   "cell_type": "code",
   "execution_count": 4,
   "id": "46ee5095",
   "metadata": {},
   "outputs": [
    {
     "name": "stdout",
     "output_type": "stream",
     "text": [
      "\n",
      "Total passes: 6\n",
      "Total fails: 4\n"
     ]
    }
   ],
   "source": [
    "\"\"\"Using nested control statements to analyze examination results.\"\"\"\n",
    "passes = 0\n",
    "fails = 0\n",
    "\n",
    "for students in range(10):\n",
    "    result = input(f\"Enter result for student {students + 1} (1= Pass / 2 = Fail): \")\n",
    "    \n",
    "    if result == '1':\n",
    "        passes += 1\n",
    "    elif result == '2':\n",
    "        fails += 1\n",
    "\n",
    "print(f\"\\nTotal passes: {passes}\")\n",
    "print(f\"Total fails: {fails}\")\n",
    "\n",
    "if passes > 8:\n",
    "    print(\"Excellent performance by the class!\")"
   ]
  },
  {
   "cell_type": "code",
   "execution_count": null,
   "id": "17fb0885",
   "metadata": {},
   "outputs": [],
   "source": [
    "\"\"\"Compund interest calculation using Decimal for precision.\"\"\"\n",
    "from decimal import Decimal\n",
    "\n",
    "principal = Decimal('1000.00')  # Initial principal amount\n",
    "rate = Decimal('0.05')  # Interest rate (5%)\n",
    "\n",
    "# Print header for the table with proper formatting using f-strings\n",
    "print(f'{\"Year\":>2}{\"Amount\":>10}')\n",
    "\n",
    "# Calculate compound interest for 10 years\n",
    "for year in range(1, 11):\n",
    "    amount = principal * (1 + rate) ** year # Compound interest formula\n",
    "    print(f'{year:>2}{amount:>12.2f}') # Print year and amount with 2 decimal places\n",
    "    # print(f'{year:>4}{\"($\"+str(amount)+\")\":>10.2f}')  # Format as ($amount)"
   ]
  }
 ],
 "metadata": {
  "kernelspec": {
   "display_name": "base",
   "language": "python",
   "name": "python3"
  },
  "language_info": {
   "codemirror_mode": {
    "name": "ipython",
    "version": 3
   },
   "file_extension": ".py",
   "mimetype": "text/x-python",
   "name": "python",
   "nbconvert_exporter": "python",
   "pygments_lexer": "ipython3",
   "version": "3.12.2"
  }
 },
 "nbformat": 4,
 "nbformat_minor": 5
}
